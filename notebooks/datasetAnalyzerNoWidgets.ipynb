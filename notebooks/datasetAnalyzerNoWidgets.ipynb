{
 "cells": [
  {
   "cell_type": "markdown",
   "metadata": {},
   "source": [
    "# Analyze Dataset Meta Data SIze Distribution\n",
    "\n"
   ]
  },
  {
   "cell_type": "code",
   "execution_count": 110,
   "metadata": {
    "scrolled": false
   },
   "outputs": [],
   "source": [
    "from __future__ import print_function\n",
    "import requests\n",
    "import json\n",
    "import collections\n",
    "from pandas.io.json import json_normalize\n",
    "import time\n",
    "import os\n",
    "import socket\n",
    "import pandas as pd"
   ]
  },
  {
   "cell_type": "code",
   "execution_count": 111,
   "metadata": {
    "scrolled": false
   },
   "outputs": [],
   "source": [
    "# api-endpoints\n",
    "apiserver=\"dacat.psi.ch\"\n",
    "API = \"https://\"+apiserver+\"/api/v3\"\n",
    "MSAD= \"https://\"+apiserver+\"/auth/msad\"\n",
    "    \n",
    "def login(user,pw):\n",
    "    access_token=''\n",
    "    data = {'username':user,'password':pw} \n",
    "    r = requests.post(url = API +'/Users/login', data = data)\n",
    "    if (r.status_code == 200):\n",
    "        access_token = r.json()['id']\n",
    "    else:\n",
    "        r = requests.post(url = MSAD, data = data)\n",
    "        if (r.status_code == 200):\n",
    "            access_token = r.json()['access_token']\n",
    "        else:\n",
    "            print(\"Could not login, access_token undefined\")\n",
    "    token=access_token  \n",
    "    return token \n",
    "    \n",
    "def flatten(d, parent_key='', sep='.'):\n",
    "    items = []\n",
    "    for k, v in d.items():\n",
    "        new_key = parent_key + sep + k if parent_key else k\n",
    "        if isinstance(v, collections.MutableMapping):\n",
    "            items.extend(flatten(v, new_key, sep=sep).items())\n",
    "        else:\n",
    "            items.append((new_key, v))\n",
    "    return dict(items)\n",
    "\n",
    "def getKeys():\n",
    "    # read first dataset to extract keys\n",
    "    # where = {\"datasetName\":\"disk1/VB1721Glob_/tif\"}\n",
    "    where = {}\n",
    "    params = {\"where\":where, \"limit\":1}\n",
    "    # defining a params dict for the parameters to be sent to the API \n",
    "    PARAMS = {'filter':json.dumps(params), 'access_token':token} \n",
    "    r = requests.get(url = API+\"/Datasets\", params = PARAMS) \n",
    "    # extracting data in json format \n",
    "    data = r.json()\n",
    "    # extract keys\n",
    "    flattened_dataset=flatten(data[0])\n",
    "    # TODO create shortend names and example values\n",
    "    return flattened_dataset.keys()\n",
    "        \n",
    "def get_datasets(token):\n",
    "    # where = {\"creationLocation\":\"/PSI/SLS/TOMCAT\"}\n",
    "    # where = { 'ownerGroup': 'p17880'}\n",
    "    # where={\"creationLocation\":\"/PSI/SLS/PHOENIX\"}\n",
    "    where = {}\n",
    "    # get count first and then read in batches\n",
    "    PARAMS = {'where':json.dumps(where),'access_token':token} \n",
    "    # sending get request and saving the response as response object \n",
    "    r = requests.get(url = API+\"/Datasets/count\", params = PARAMS)  \n",
    "    data = r.json() \n",
    "    print(\"Number of datasets:\",data)\n",
    "    # predefine key list \n",
    "    selected_options=['size', 'ownerGroup', 'datasetlifecycle.retrievable']\n",
    "    fields = { key:1 for key in selected_options }\n",
    "    print(\"Waiting for results:\")\n",
    "    par = {\"fields\":fields,\"where\":where}\n",
    "    # defining a params dict for the parameters to be sent to the API \n",
    "    PARAMS = {'filter':json.dumps(par), 'access_token':token} \n",
    "    # sending get request and saving the response as response object \n",
    "    r = requests.get(url = API+\"/Datasets\", params = PARAMS) \n",
    "    # extracting data in json format and flatten tree\n",
    "    data = r.json() \n",
    "    df = json_normalize(data) \n",
    "    result=df\n",
    "    return result\n"
   ]
  },
  {
   "cell_type": "code",
   "execution_count": 115,
   "metadata": {
    "scrolled": false
   },
   "outputs": [
    {
     "name": "stdout",
     "output_type": "stream",
     "text": [
      "········\n"
     ]
    }
   ],
   "source": [
    "import getpass\n",
    "password = getpass.getpass()"
   ]
  },
  {
   "cell_type": "code",
   "execution_count": 116,
   "metadata": {
    "scrolled": false
   },
   "outputs": [
    {
     "name": "stdout",
     "output_type": "stream",
     "text": [
      "Number of datasets: {'count': 310942}\n",
      "Waiting for results:\n"
     ]
    }
   ],
   "source": [
    "token=login(\"ingestor\",password)\n",
    "data=get_datasets(token)\n",
    "import numpy as np\n",
    "data['logsize']=np.log10(data['size']+1)\n"
   ]
  },
  {
   "cell_type": "code",
   "execution_count": 117,
   "metadata": {
    "scrolled": false
   },
   "outputs": [
    {
     "data": {
      "text/html": [
       "<div>\n",
       "<style scoped>\n",
       "    .dataframe tbody tr th:only-of-type {\n",
       "        vertical-align: middle;\n",
       "    }\n",
       "\n",
       "    .dataframe tbody tr th {\n",
       "        vertical-align: top;\n",
       "    }\n",
       "\n",
       "    .dataframe thead th {\n",
       "        text-align: right;\n",
       "    }\n",
       "</style>\n",
       "<table border=\"1\" class=\"dataframe\">\n",
       "  <thead>\n",
       "    <tr style=\"text-align: right;\">\n",
       "      <th></th>\n",
       "      <th>datasetlifecycle.retrievable</th>\n",
       "      <th>ownerGroup</th>\n",
       "      <th>size</th>\n",
       "      <th>logsize</th>\n",
       "    </tr>\n",
       "  </thead>\n",
       "  <tbody>\n",
       "    <tr>\n",
       "      <th>0</th>\n",
       "      <td>True</td>\n",
       "      <td>p18243</td>\n",
       "      <td>5.940065e+07</td>\n",
       "      <td>7.773791</td>\n",
       "    </tr>\n",
       "    <tr>\n",
       "      <th>1</th>\n",
       "      <td>True</td>\n",
       "      <td>p17621</td>\n",
       "      <td>1.449889e+10</td>\n",
       "      <td>10.161335</td>\n",
       "    </tr>\n",
       "    <tr>\n",
       "      <th>2</th>\n",
       "      <td>False</td>\n",
       "      <td>p13388</td>\n",
       "      <td>0.000000e+00</td>\n",
       "      <td>0.000000</td>\n",
       "    </tr>\n",
       "    <tr>\n",
       "      <th>3</th>\n",
       "      <td>False</td>\n",
       "      <td>p12370</td>\n",
       "      <td>0.000000e+00</td>\n",
       "      <td>0.000000</td>\n",
       "    </tr>\n",
       "    <tr>\n",
       "      <th>4</th>\n",
       "      <td>True</td>\n",
       "      <td>p17962</td>\n",
       "      <td>1.247562e+08</td>\n",
       "      <td>8.096062</td>\n",
       "    </tr>\n",
       "  </tbody>\n",
       "</table>\n",
       "</div>"
      ],
      "text/plain": [
       "   datasetlifecycle.retrievable ownerGroup          size    logsize\n",
       "0                          True     p18243  5.940065e+07   7.773791\n",
       "1                          True     p17621  1.449889e+10  10.161335\n",
       "2                         False     p13388  0.000000e+00   0.000000\n",
       "3                         False     p12370  0.000000e+00   0.000000\n",
       "4                          True     p17962  1.247562e+08   8.096062"
      ]
     },
     "execution_count": 117,
     "metadata": {},
     "output_type": "execute_result"
    }
   ],
   "source": [
    "data.head()"
   ]
  },
  {
   "cell_type": "code",
   "execution_count": 118,
   "metadata": {},
   "outputs": [],
   "source": [
    "filter=data['datasetlifecycle.retrievable']"
   ]
  },
  {
   "cell_type": "code",
   "execution_count": 119,
   "metadata": {},
   "outputs": [],
   "source": [
    "archivedData=data[filter]"
   ]
  },
  {
   "cell_type": "code",
   "execution_count": 120,
   "metadata": {},
   "outputs": [
    {
     "data": {
      "image/png": "[encoded data removed]",
      "text/plain": [
       "<Figure size 432x288 with 1 Axes>"
      ]
     },
     "metadata": {
      "needs_background": "light"
     },
     "output_type": "display_data"
    }
   ],
   "source": [
    "hist2=archivedData.logsize.hist(bins=100)"
   ]
  },
  {
   "cell_type": "code",
   "execution_count": 121,
   "metadata": {},
   "outputs": [
    {
     "data": {
      "image/png": "[encoded data removed]",
      "text/plain": [
       "<Figure size 432x288 with 1 Axes>"
      ]
     },
     "metadata": {
      "needs_background": "light"
     },
     "output_type": "display_data"
    }
   ],
   "source": [
    "import matplotlib.pyplot as plt\n",
    "fig, ax = plt.subplots()\n",
    "archivedData.logsize.hist(ax=ax, bins=100, bottom=0.1)\n",
    "ax.set_yscale('log')\n"
   ]
  },
  {
   "cell_type": "code",
   "execution_count": 122,
   "metadata": {},
   "outputs": [
    {
     "name": "stdout",
     "output_type": "stream",
     "text": [
      "18578978820.363407 10.26902183964314\n",
      "460883453818.0482 11.663591116793413\n"
     ]
    }
   ],
   "source": [
    "mn=archivedData['size'].mean()\n",
    "print(mn,np.log10(mn))\n",
    "std=archivedData['size'].std()\n",
    "print(std,np.log10(std))"
   ]
  },
  {
   "cell_type": "markdown",
   "metadata": {},
   "source": [
    "## To summarize\n",
    "The two plots show log(size) on the x -axis on a linear(upper plot) and log10 (lower plot) y axis\n",
    "The distribution of the dataset sizes is very broad with a mean of 18.6 GBi and a standard deviation of 460 GB"
   ]
  }
 ],
 "metadata": {
  "kernelspec": {
   "display_name": "Python 3",
   "language": "python",
   "name": "python3"
  },
  "language_info": {
   "codemirror_mode": {
    "name": "ipython",
    "version": 3
   },
   "file_extension": ".py",
   "mimetype": "text/x-python",
   "name": "python",
   "nbconvert_exporter": "python",
   "pygments_lexer": "ipython3",
   "version": "3.6.3"
  }
 },
 "nbformat": 4,
 "nbformat_minor": 4
}
