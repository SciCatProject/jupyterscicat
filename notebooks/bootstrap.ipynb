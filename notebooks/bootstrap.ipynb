{
 "cells": [
  {
   "cell_type": "markdown",
   "metadata": {},
   "source": [
    "# Getting started\n",
    "\n",
    "This notebook is just a \"bootstrap\" notebook which allows you to fetch the real notebooks from e.g. a github server. The following commands fetch example notebooks from e.g. the SciCatProject on github. \n",
    "\n",
    "As a start vou can open one of downloaded notebooks and simply click the \"Voila\" button above to make them run. Afterwards you may want to edit the notebooks according to your needs.\n"
   ]
  },
  {
   "cell_type": "code",
   "execution_count": null,
   "metadata": {},
   "outputs": [],
   "source": [
    "# get the repo containing the example notebooks\n",
    "!git clone https://github.com/SciCatProject/jupyterscicat\n",
    "# extract the notebooks\n",
    "!mv jupyterscicat/notebooks scicat-examples\n"
   ]
  },
  {
   "cell_type": "code",
   "execution_count": null,
   "metadata": {},
   "outputs": [],
   "source": [
    "# optionally get rid of cloned repo again\n",
    "!rm -rf jupyterscicat"
   ]
  }
 ],
 "metadata": {
  "kernelspec": {
   "display_name": "Python 3",
   "language": "python",
   "name": "python3"
  },
  "language_info": {
   "codemirror_mode": {
    "name": "ipython",
    "version": 3
   },
   "file_extension": ".py",
   "mimetype": "text/x-python",
   "name": "python",
   "nbconvert_exporter": "python",
   "pygments_lexer": "ipython3",
   "version": "3.6.3"
  }
 },
 "nbformat": 4,
 "nbformat_minor": 2
}
